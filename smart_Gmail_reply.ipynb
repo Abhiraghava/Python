{
  "nbformat": 4,
  "nbformat_minor": 0,
  "metadata": {
    "colab": {
      "provenance": [],
      "authorship_tag": "ABX9TyM8+wat7LQ4h7b6RBLtZQJi",
      "include_colab_link": true
    },
    "kernelspec": {
      "name": "python3",
      "display_name": "Python 3"
    },
    "language_info": {
      "name": "python"
    }
  },
  "cells": [
    {
      "cell_type": "markdown",
      "metadata": {
        "id": "view-in-github",
        "colab_type": "text"
      },
      "source": [
        "<a href=\"https://colab.research.google.com/github/Abhiraghava/Python/blob/main/smart_Gmail_reply.ipynb\" target=\"_parent\"><img src=\"https://colab.research.google.com/assets/colab-badge.svg\" alt=\"Open In Colab\"/></a>"
      ]
    },
    {
      "cell_type": "code",
      "execution_count": 1,
      "metadata": {
        "colab": {
          "base_uri": "https://localhost:8080/"
        },
        "id": "-OyapXqkzjAb",
        "outputId": "4cff6f96-884f-4c33-ed60-b297419032a2"
      },
      "outputs": [
        {
          "output_type": "stream",
          "name": "stdout",
          "text": [
            "Model Accuracy: 0.0\n",
            "Suggested Reply: Greeting\n"
          ]
        }
      ],
      "source": [
        "import pandas as pd\n",
        "from sklearn.feature_extraction.text import TfidfVectorizer\n",
        "from sklearn.model_selection import train_test_split\n",
        "from sklearn.naive_bayes import MultinomialNB\n",
        "from sklearn.metrics import accuracy_score\n",
        "from sklearn.pipeline import make_pipeline\n",
        "\n",
        "# Sample dataset for training\n",
        "data = {'emails': ['Hello, how are you?', 'Meeting at 3 pm?', 'Lunch tomorrow?', 'Work on the project', 'Vacation plans?'],\n",
        "        'labels': ['Greeting', 'Meeting', 'Meeting', 'Work', 'Personal']}\n",
        "df = pd.DataFrame(data)\n",
        "\n",
        "# Split the dataset into training and testing sets\n",
        "X_train, X_test, y_train, y_test = train_test_split(df['emails'], df['labels'], test_size=0.2, random_state=42)\n",
        "\n",
        "# Create a simple text classification pipeline\n",
        "model = make_pipeline(TfidfVectorizer(), MultinomialNB())\n",
        "model.fit(X_train, y_train)\n",
        "\n",
        "# Make predictions on test data\n",
        "predictions = model.predict(X_test)\n",
        "\n",
        "# Evaluate the model\n",
        "accuracy = accuracy_score(y_test, predictions)\n",
        "print(f'Model Accuracy: {accuracy}')\n",
        "\n",
        "# Use the trained model to suggest replies for a new email\n",
        "new_email = [\"Hey, what's up?\"]\n",
        "suggested_reply = model.predict(new_email)\n",
        "print(f'Suggested Reply: {suggested_reply[0]}')\n"
      ]
    }
  ]
}